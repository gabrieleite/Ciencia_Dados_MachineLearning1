{
  "nbformat": 4,
  "nbformat_minor": 0,
  "metadata": {
    "colab": {
      "name": "MachineLearning1.ipynb",
      "provenance": [],
      "authorship_tag": "ABX9TyM6KObypiXv7BY+ar41E4OY",
      "include_colab_link": true
    },
    "kernelspec": {
      "name": "python3",
      "display_name": "Python 3"
    },
    "language_info": {
      "name": "python"
    }
  },
  "cells": [
    {
      "cell_type": "markdown",
      "metadata": {
        "id": "view-in-github",
        "colab_type": "text"
      },
      "source": [
        "<a href=\"https://colab.research.google.com/github/gabrieleite/Ciencia_Dados_MachineLearning1/blob/main/MachineLearning1.ipynb\" target=\"_parent\"><img src=\"https://colab.research.google.com/assets/colab-badge.svg\" alt=\"Open In Colab\"/></a>"
      ]
    },
    {
      "cell_type": "markdown",
      "source": [
        "# Definição - Machine Learning\n",
        "*Machine Learning* é uma área de estudo que fornece aos computadores a habilidade de aprender sem serem explicitamente programados.\n",
        "\n",
        "> Um programa de computador que aprende a partir da experiência __E__ em relação a algum tipo de tarefa __T__ e alguma medida de desempenho __P__, se o seu desempenho em __T__, conforme medido por __P__, melhora com a experiência __E__.\n",
        "\n",
        "Mitchell, T.M. (1997). Machine Learning. McGraw-Hill, New York."
      ],
      "metadata": {
        "id": "zmVbIwMeopqT"
      }
    },
    {
      "cell_type": "markdown",
      "source": [
        "### Experiência (E)\n",
        "\n",
        "Em *Machine Learning* um programa de computador aprende sem ser explicitamente programado. Ele aprende a partir de um conjunto de dados que expressa toda *experiência* (E) que desejamos ensiná-lo. Esse conjunto de dados é chamado de **conjunto de treinamento**.\n",
        "\n",
        "* **Aprendizagem Supervisionada**: o conjunto de treinamento é composto por amostras de entradas/saídas.\n",
        "* **Aprendizagem Não-Supervisionada**: conjunto de treinamento é composto por amostras de entradas apenas."
      ],
      "metadata": {
        "id": "pIlw2Pjipj71"
      }
    },
    {
      "cell_type": "markdown",
      "source": [
        "### Tarefas (T)\n",
        "\n",
        "* Classificação - Supervisionada qualitativa\n",
        "* Regressão - Supervisionada quantitativa \n",
        "* Agrupamento - Não-supervisionada (_Cluster_)"
      ],
      "metadata": {
        "id": "HxqpOadYqTti"
      }
    },
    {
      "cell_type": "markdown",
      "source": [
        "### Desempenho (P)\n",
        "\n",
        "Para medir o desempenho de um algoritmo de Machine Learning é preciso de uma medida de desempenho para mensurar a qualidade do processo de aprendizagem. Essa medida é conhecida como **função de custo** ou **função de erro**. Essa função é definida de acordo com o tipo de problema (aprendizagem supervisionada ou não-supervisionada). Essa função contém um **conjunto de parâmetros** a serem otimizada pelo um algoritmo de *Machine Learning*\n",
        "\n",
        "De maneira geral, pode-se dizer que o objetivo do algoritmo de *Machine Learning* é otimizar (aprender) o **conjunto de parâmetros** de tal forma que resultado da função seja o minímo possível. Isso significa que algoritmo tem uma alta taxa de aprendizagem e uma baixa taxa de erro.\n",
        "\n",
        "* Dividir os dados em \n",
        "* Treino\n",
        "* Teste\n",
        "    * Aqui eu mensuro desempenho (P)"
      ],
      "metadata": {
        "id": "kXcNgedcqkTa"
      }
    },
    {
      "cell_type": "markdown",
      "source": [
        ""
      ],
      "metadata": {
        "id": "h2cpdq6nrtDp"
      }
    }
  ]
}